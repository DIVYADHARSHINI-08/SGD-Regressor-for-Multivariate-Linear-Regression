{
 "cells": [
  {
   "cell_type": "code",
   "execution_count": 1,
   "id": "1599813b",
   "metadata": {},
   "outputs": [],
   "source": [
    "import numpy as np\n",
    "from sklearn.datasets import fetch_california_housing\n",
    "from sklearn.linear_model import SGDRegressor\n",
    "from sklearn.multioutput import MultiOutputRegressor\n",
    "from sklearn.model_selection import train_test_split\n",
    "from sklearn.metrics import mean_squared_error\n",
    "from sklearn.preprocessing import StandardScaler"
   ]
  },
  {
   "cell_type": "code",
   "execution_count": 2,
   "id": "90fd345a",
   "metadata": {},
   "outputs": [],
   "source": [
    "data=fetch_california_housing()\n",
    "X=data.data[:,:3]\n",
    "Y=np.column_stack((data.target,data.data[:,6]))"
   ]
  },
  {
   "cell_type": "code",
   "execution_count": 3,
   "id": "87e8e5f9",
   "metadata": {},
   "outputs": [],
   "source": [
    "X_train,X_test,Y_train,Y_test=train_test_split(X,Y,test_size=0.2,random_state=42)\n",
    "scaler_X=StandardScaler()\n",
    "scaler_Y=StandardScaler()\n",
    "X_train =scaler_X.fit_transform(X_train)\n",
    "X_test=scaler_X.transform(X_test)\n",
    "Y_train=scaler_Y.fit_transform(Y_train)\n",
    "Y_test=scaler_Y.transform(Y_test)"
   ]
  },
  {
   "cell_type": "code",
   "execution_count": 4,
   "id": "7b4d791f",
   "metadata": {},
   "outputs": [],
   "source": [
    "sgd=SGDRegressor(max_iter=1000, tol=1e-3)\n",
    "multi_output_sgd=MultiOutputRegressor(sgd)\n",
    "multi_output_sgd.fit(X_train,Y_train)\n",
    "Y_pred=multi_output_sgd.predict(X_test)\n",
    "Y_pred=scaler_Y.inverse_transform(Y_pred)\n",
    "Y_test=scaler_Y.inverse_transform(Y_test)"
   ]
  },
  {
   "cell_type": "code",
   "execution_count": 5,
   "id": "dc560b4b",
   "metadata": {},
   "outputs": [
    {
     "name": "stdout",
     "output_type": "stream",
     "text": [
      "Mean Square Error: 2.551053037349498\n",
      "\n",
      "Predictions:\n",
      " [[ 1.05629369 35.75283756]\n",
      " [ 1.48920821 35.75483157]\n",
      " [ 2.357711   35.57119819]\n",
      " [ 2.67959716 35.45643088]\n",
      " [ 2.08275197 35.66834267]]\n"
     ]
    }
   ],
   "source": [
    "mse=mean_squared_error(Y_test,Y_pred)\n",
    "print(\"Mean Square Error:\",mse)\n",
    "print(\"\\nPredictions:\\n\",Y_pred[:5])"
   ]
  },
  {
   "cell_type": "code",
   "execution_count": null,
   "id": "b48b55cd",
   "metadata": {},
   "outputs": [],
   "source": []
  },
  {
   "cell_type": "code",
   "execution_count": null,
   "id": "30b0e066",
   "metadata": {},
   "outputs": [],
   "source": []
  }
 ],
 "metadata": {
  "kernelspec": {
   "display_name": "Python 3 (ipykernel)",
   "language": "python",
   "name": "python3"
  },
  "language_info": {
   "codemirror_mode": {
    "name": "ipython",
    "version": 3
   },
   "file_extension": ".py",
   "mimetype": "text/x-python",
   "name": "python",
   "nbconvert_exporter": "python",
   "pygments_lexer": "ipython3",
   "version": "3.11.3"
  }
 },
 "nbformat": 4,
 "nbformat_minor": 5
}
